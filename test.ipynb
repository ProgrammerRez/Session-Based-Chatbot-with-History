{
 "cells": [
  {
   "cell_type": "markdown",
   "id": "41380910",
   "metadata": {},
   "source": [
    "## Loading the API Key"
   ]
  },
  {
   "cell_type": "code",
   "execution_count": 9,
   "id": "0765f29d",
   "metadata": {},
   "outputs": [
    {
     "data": {
      "text/plain": [
       "'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'"
      ]
     },
     "execution_count": 9,
     "metadata": {},
     "output_type": "execute_result"
    }
   ],
   "source": [
    "import os\n",
    "from dotenv import load_dotenv\n",
    "\n",
    "load_dotenv('env')\n",
    "api_key = os.getenv('GROQ_API_KEY')\n",
    "api_key\n"
   ]
  },
  {
   "cell_type": "markdown",
   "id": "7fb3444b",
   "metadata": {},
   "source": [
    "## Declaring the Model"
   ]
  },
  {
   "cell_type": "code",
   "execution_count": 10,
   "id": "6178a4b5",
   "metadata": {},
   "outputs": [
    {
     "data": {
      "text/plain": [
       "ChatGroq(client=<groq.resources.chat.completions.Completions object at 0x0000020F0EE94E10>, async_client=<groq.resources.chat.completions.AsyncCompletions object at 0x0000020F0EE95A90>, model_name='gemma2-9b-it', model_kwargs={}, groq_api_key=SecretStr('**********'))"
      ]
     },
     "execution_count": 10,
     "metadata": {},
     "output_type": "execute_result"
    }
   ],
   "source": [
    "from langchain_groq import ChatGroq\n",
    "model = ChatGroq(model='gemma2-9b-it',api_key=api_key)  # type: ignore\n",
    "model"
   ]
  },
  {
   "cell_type": "markdown",
   "id": "bdcfeb96",
   "metadata": {},
   "source": [
    "## Calling Prompt Template, Messages and Output Parser"
   ]
  },
  {
   "cell_type": "code",
   "execution_count": 11,
   "id": "bd057266",
   "metadata": {},
   "outputs": [],
   "source": [
    "from langchain_core.prompts import ChatPromptTemplate\n",
    "from langchain_core.messages import HumanMessage, SystemMessage\n",
    "from langchain_core.output_parsers import StrOutputParser\n",
    "\n",
    "template = 'Translate the following into {language}'\n",
    "prompt = ChatPromptTemplate.from_messages([\n",
    "    (\"system\", template),\n",
    "    (\"human\", \"{text}\")\n",
    "])\n",
    "\n",
    "parser = StrOutputParser()\n",
    "\n",
    "chain = prompt| model | parser "
   ]
  },
  {
   "cell_type": "markdown",
   "id": "9882914e",
   "metadata": {},
   "source": [
    "# Testing the Chain"
   ]
  },
  {
   "cell_type": "code",
   "execution_count": 12,
   "id": "83a82a58",
   "metadata": {},
   "outputs": [
    {
     "name": "stdout",
     "output_type": "stream",
     "text": [
      "سلام! آپ کیسے ہیں؟  \n",
      "\n",
      "(Salam! Aap kaise hain?)\n",
      "\n",
      "\n",
      "* **سلام** (Salam) - Hello\n",
      "* **آپ** (Aap) - You (formal)\n",
      "* **کیسے** (kaise) - How\n",
      "* **ہیں** (hain) - Are \n",
      "\n",
      "Bonjour \n",
      "\n",
      "\n",
      "You can also use:\n",
      "\n",
      "* **Bienvenue** (more formal)\n",
      "* **Salut** (informal)\n",
      "\n",
      "\n",
      "What is that? can be translated into German in several ways, depending on the context and desired level of formality:\n",
      "\n",
      "**Informal:**\n",
      "\n",
      "* **Was ist das?!** (This is the most common and direct translation)\n",
      "* **Was ist das denn?!** (Adds emphasis and surprise)\n",
      "\n",
      "**More formal:**\n",
      "\n",
      "* **Was ist das?** (Simple and neutral)\n",
      "\n",
      "The best translation for your specific situation will depend on the tone and context.  \n",
      "\n",
      "\n",
      "Let me know if you have any other phrases you'd like translated!\n",
      "\n"
     ]
    }
   ],
   "source": [
    "messages = {\n",
    "    \n",
    "    'Urdu':'Hello. How are you?',\n",
    "    'French': 'Welcome',\n",
    "    'German' : 'What is that !',\n",
    "}\n",
    "    \n",
    "\n",
    "for key in messages.keys():\n",
    "    result = chain.invoke({'language':key,'text':messages[key]})\n",
    "    print(result)"
   ]
  },
  {
   "cell_type": "code",
   "execution_count": 116,
   "id": "161267ff",
   "metadata": {},
   "outputs": [
    {
     "name": "stdout",
     "output_type": "stream",
     "text": [
      "Bot (Urdu): I received 'Hey, my name is Umar'\n",
      "Session ID: bc43b8d0-339b-4548-be92-97906fb0dc9e\n",
      "Bot (Urdu): I received 'How are you?'\n",
      "Bot (Urdu): I received 'Hello from a new session!'\n",
      "New Session ID: 5892db67-dedd-42fb-afd4-c9bbcd2bf93a\n"
     ]
    }
   ],
   "source": [
    "import uuid\n",
    "\n",
    "# Store chat history per session\n",
    "chat_histories = {}\n",
    "\n",
    "def send_message(text: str, language: str = \"English\", session_id: str = None):\n",
    "    \"\"\"Send a message and manage chat sessions with history.\"\"\"\n",
    "    \n",
    "    # Create new session if not provided\n",
    "    if session_id is None:\n",
    "        session_id = str(uuid.uuid4())\n",
    "        chat_histories[session_id] = []\n",
    "\n",
    "    # Append user message to history\n",
    "    chat_histories[session_id].append(f\"User ({language}): {text}\")\n",
    "    \n",
    "    # Generate bot response (replace with real AI logic if needed)\n",
    "    response = f\"Bot ({language}): I received '{text}'\"\n",
    "    \n",
    "    # Append bot response to history\n",
    "    chat_histories[session_id].append(response)\n",
    "    \n",
    "    return response, session_id\n",
    "\n",
    "# Example usage\n",
    "\n",
    "# First call: new session\n",
    "response1, session_id1 = send_message(\"Hey, my name is Umar\", \"Urdu\")\n",
    "print(response1)\n",
    "print(\"Session ID:\", session_id1)\n",
    "\n",
    "# Second call: continue same session\n",
    "response2, _ = send_message(\"How are you?\", \"Urdu\", session_id1)\n",
    "print(response2)\n",
    "\n",
    "# Third call: new session\n",
    "response3, session_id2 = send_message(\"Hello from a new session!\", \"Urdu\")\n",
    "print(response3)\n",
    "print(\"New Session ID:\", session_id2)\n"
   ]
  },
  {
   "cell_type": "code",
   "execution_count": null,
   "id": "e852a90f",
   "metadata": {},
   "outputs": [],
   "source": []
  }
 ],
 "metadata": {
  "kernelspec": {
   "display_name": ".venv",
   "language": "python",
   "name": "python3"
  },
  "language_info": {
   "codemirror_mode": {
    "name": "ipython",
    "version": 3
   },
   "file_extension": ".py",
   "mimetype": "text/x-python",
   "name": "python",
   "nbconvert_exporter": "python",
   "pygments_lexer": "ipython3",
   "version": "3.13.3"
  }
 },
 "nbformat": 4,
 "nbformat_minor": 5
}
